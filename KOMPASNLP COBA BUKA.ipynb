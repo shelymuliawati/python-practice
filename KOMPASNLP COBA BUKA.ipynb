{
 "cells": [
  {
   "cell_type": "code",
   "execution_count": 17,
   "metadata": {},
   "outputs": [],
   "source": [
    "import pandas as pd\n",
    "import numpy as np\n",
    "import matplotlib.pyplot as plt\n",
    "import seaborn as sns"
   ]
  },
  {
   "cell_type": "code",
   "execution_count": 6,
   "metadata": {},
   "outputs": [],
   "source": [
    "kompasnlp = pd.read_csv(r\"C:\\Users\\SHELY MULIAWATI\\Documents\\kompas (2).csv\")"
   ]
  },
  {
   "cell_type": "code",
   "execution_count": 9,
   "metadata": {},
   "outputs": [
    {
     "data": {
      "text/html": [
       "<div>\n",
       "<style scoped>\n",
       "    .dataframe tbody tr th:only-of-type {\n",
       "        vertical-align: middle;\n",
       "    }\n",
       "\n",
       "    .dataframe tbody tr th {\n",
       "        vertical-align: top;\n",
       "    }\n",
       "\n",
       "    .dataframe thead th {\n",
       "        text-align: right;\n",
       "    }\n",
       "</style>\n",
       "<table border=\"1\" class=\"dataframe\">\n",
       "  <thead>\n",
       "    <tr style=\"text-align: right;\">\n",
       "      <th></th>\n",
       "      <th>title</th>\n",
       "      <th>content</th>\n",
       "      <th>date</th>\n",
       "      <th>time</th>\n",
       "      <th>link</th>\n",
       "    </tr>\n",
       "  </thead>\n",
       "  <tbody>\n",
       "    <tr>\n",
       "      <th>0</th>\n",
       "      <td>Nikita Mirzani Menangis Lihat Foto Tenaga Medi...</td>\n",
       "      <td>JAKARTA, KOMPAS.com Artis peran Nikita Mirzan...</td>\n",
       "      <td>2020-03-28</td>\n",
       "      <td>09:57 WIB</td>\n",
       "      <td>http://www.kompas.com/hype/read/2020/03/28/095...</td>\n",
       "    </tr>\n",
       "    <tr>\n",
       "      <th>1</th>\n",
       "      <td>IDI Larang Dokter Tanpa APD Tangani Pasien Cov...</td>\n",
       "      <td>JAKARTA, KOMPAS.com Ikatan Dokter Indonesia I...</td>\n",
       "      <td>2020-03-28</td>\n",
       "      <td>09:54 WIB</td>\n",
       "      <td>http://nasional.kompas.com/read/2020/03/28/095...</td>\n",
       "    </tr>\n",
       "    <tr>\n",
       "      <th>2</th>\n",
       "      <td>E-commerce Pertanian Bantu Penuhi Kebutuhan Ma...</td>\n",
       "      <td>KOMPAS.com Pandemi virus corona atau Covid19 ...</td>\n",
       "      <td>2020-03-28</td>\n",
       "      <td>09:48 WIB</td>\n",
       "      <td>http://money.kompas.com/read/2020/03/28/094816...</td>\n",
       "    </tr>\n",
       "    <tr>\n",
       "      <th>3</th>\n",
       "      <td>Sejumlah Warga Nekat Mudik ke Sleman, Ini yang...</td>\n",
       "      <td>YOGYAKARTA, KOMPAS.com Pemerintah Kabupaten S...</td>\n",
       "      <td>2020-03-28</td>\n",
       "      <td>09:47 WIB</td>\n",
       "      <td>http://regional.kompas.com/read/2020/03/28/094...</td>\n",
       "    </tr>\n",
       "    <tr>\n",
       "      <th>4</th>\n",
       "      <td>Seperti PT LIB, Persija Hormati Keputusan PSSI...</td>\n",
       "      <td>KOMPAS.com Manajemen Persija Jakarta turut me...</td>\n",
       "      <td>2020-03-28</td>\n",
       "      <td>09:40 WIB</td>\n",
       "      <td>http://bola.kompas.com/read/2020/03/28/0940007...</td>\n",
       "    </tr>\n",
       "  </tbody>\n",
       "</table>\n",
       "</div>"
      ],
      "text/plain": [
       "                                               title  \\\n",
       "0  Nikita Mirzani Menangis Lihat Foto Tenaga Medi...   \n",
       "1  IDI Larang Dokter Tanpa APD Tangani Pasien Cov...   \n",
       "2  E-commerce Pertanian Bantu Penuhi Kebutuhan Ma...   \n",
       "3  Sejumlah Warga Nekat Mudik ke Sleman, Ini yang...   \n",
       "4  Seperti PT LIB, Persija Hormati Keputusan PSSI...   \n",
       "\n",
       "                                             content        date        time  \\\n",
       "0   JAKARTA, KOMPAS.com Artis peran Nikita Mirzan...  2020-03-28   09:57 WIB   \n",
       "1   JAKARTA, KOMPAS.com Ikatan Dokter Indonesia I...  2020-03-28   09:54 WIB   \n",
       "2   KOMPAS.com Pandemi virus corona atau Covid19 ...  2020-03-28   09:48 WIB   \n",
       "3   YOGYAKARTA, KOMPAS.com Pemerintah Kabupaten S...  2020-03-28   09:47 WIB   \n",
       "4   KOMPAS.com Manajemen Persija Jakarta turut me...  2020-03-28   09:40 WIB   \n",
       "\n",
       "                                                link  \n",
       "0  http://www.kompas.com/hype/read/2020/03/28/095...  \n",
       "1  http://nasional.kompas.com/read/2020/03/28/095...  \n",
       "2  http://money.kompas.com/read/2020/03/28/094816...  \n",
       "3  http://regional.kompas.com/read/2020/03/28/094...  \n",
       "4  http://bola.kompas.com/read/2020/03/28/0940007...  "
      ]
     },
     "execution_count": 9,
     "metadata": {},
     "output_type": "execute_result"
    }
   ],
   "source": [
    "kompasnlp.head()"
   ]
  },
  {
   "cell_type": "code",
   "execution_count": 11,
   "metadata": {},
   "outputs": [
    {
     "data": {
      "text/html": [
       "<div>\n",
       "<style scoped>\n",
       "    .dataframe tbody tr th:only-of-type {\n",
       "        vertical-align: middle;\n",
       "    }\n",
       "\n",
       "    .dataframe tbody tr th {\n",
       "        vertical-align: top;\n",
       "    }\n",
       "\n",
       "    .dataframe thead th {\n",
       "        text-align: right;\n",
       "    }\n",
       "</style>\n",
       "<table border=\"1\" class=\"dataframe\">\n",
       "  <thead>\n",
       "    <tr style=\"text-align: right;\">\n",
       "      <th></th>\n",
       "      <th>title</th>\n",
       "      <th>content</th>\n",
       "      <th>date</th>\n",
       "      <th>time</th>\n",
       "      <th>link</th>\n",
       "    </tr>\n",
       "  </thead>\n",
       "  <tbody>\n",
       "    <tr>\n",
       "      <th>7587</th>\n",
       "      <td>Antisipasi Virus dari China, Dinkes Bali Imbau...</td>\n",
       "      <td>DENPASAR, KOMPAS.com Dinas Kesehatan Provinsi...</td>\n",
       "      <td>2020-01-17</td>\n",
       "      <td>15:16 WIB</td>\n",
       "      <td>http://regional.kompas.com/read/2020/01/17/151...</td>\n",
       "    </tr>\n",
       "    <tr>\n",
       "      <th>7588</th>\n",
       "      <td>Pesan Kurma Timur Tengah Membawa Virus Corona ...</td>\n",
       "      <td>KOMPAS.com Sebuah pesan di Facebook heboh mem...</td>\n",
       "      <td>2019-05-07</td>\n",
       "      <td>13:51 WIB</td>\n",
       "      <td>http://sains.kompas.com/read/2019/05/07/135159...</td>\n",
       "    </tr>\n",
       "    <tr>\n",
       "      <th>7589</th>\n",
       "      <td>[HOAKS] Kurma Timur Tengah Mengandung Virus Co...</td>\n",
       "      <td>hoaks Berdasarkan verifikasi Kompas.com sejau...</td>\n",
       "      <td>2019-05-07</td>\n",
       "      <td>11:08 WIB</td>\n",
       "      <td>http://nasional.kompas.com/read/2019/05/07/110...</td>\n",
       "    </tr>\n",
       "    <tr>\n",
       "      <th>7590</th>\n",
       "      <td>Suspek Belum Tentu Positif Terinfeksi Virus Co...</td>\n",
       "      <td>KOMPAS.comSuspek jamaah haji asal embarkasi S...</td>\n",
       "      <td>2013-10-25</td>\n",
       "      <td>17:23 WIB</td>\n",
       "      <td>http://health.kompas.com/read/2013/10/25/17230...</td>\n",
       "    </tr>\n",
       "    <tr>\n",
       "      <th>7591</th>\n",
       "      <td>Anggota Jemaah Haji Asal Bojonegoro \"Suspect\" ...</td>\n",
       "      <td>SURABAYA, KOMPAS.com Seorang anggota jemaah h...</td>\n",
       "      <td>2013-10-24</td>\n",
       "      <td>13:02 WIB</td>\n",
       "      <td>http://regional.kompas.com/read/2013/10/24/130...</td>\n",
       "    </tr>\n",
       "  </tbody>\n",
       "</table>\n",
       "</div>"
      ],
      "text/plain": [
       "                                                  title  \\\n",
       "7587  Antisipasi Virus dari China, Dinkes Bali Imbau...   \n",
       "7588  Pesan Kurma Timur Tengah Membawa Virus Corona ...   \n",
       "7589  [HOAKS] Kurma Timur Tengah Mengandung Virus Co...   \n",
       "7590  Suspek Belum Tentu Positif Terinfeksi Virus Co...   \n",
       "7591  Anggota Jemaah Haji Asal Bojonegoro \"Suspect\" ...   \n",
       "\n",
       "                                                content        date  \\\n",
       "7587   DENPASAR, KOMPAS.com Dinas Kesehatan Provinsi...  2020-01-17   \n",
       "7588   KOMPAS.com Sebuah pesan di Facebook heboh mem...  2019-05-07   \n",
       "7589   hoaks Berdasarkan verifikasi Kompas.com sejau...  2019-05-07   \n",
       "7590   KOMPAS.comSuspek jamaah haji asal embarkasi S...  2013-10-25   \n",
       "7591   SURABAYA, KOMPAS.com Seorang anggota jemaah h...  2013-10-24   \n",
       "\n",
       "            time                                               link  \n",
       "7587   15:16 WIB  http://regional.kompas.com/read/2020/01/17/151...  \n",
       "7588   13:51 WIB  http://sains.kompas.com/read/2019/05/07/135159...  \n",
       "7589   11:08 WIB  http://nasional.kompas.com/read/2019/05/07/110...  \n",
       "7590   17:23 WIB  http://health.kompas.com/read/2013/10/25/17230...  \n",
       "7591   13:02 WIB  http://regional.kompas.com/read/2013/10/24/130...  "
      ]
     },
     "execution_count": 11,
     "metadata": {},
     "output_type": "execute_result"
    }
   ],
   "source": [
    "kompasnlp.tail()"
   ]
  },
  {
   "cell_type": "code",
   "execution_count": 13,
   "metadata": {},
   "outputs": [
    {
     "data": {
      "text/html": [
       "<div>\n",
       "<style scoped>\n",
       "    .dataframe tbody tr th:only-of-type {\n",
       "        vertical-align: middle;\n",
       "    }\n",
       "\n",
       "    .dataframe tbody tr th {\n",
       "        vertical-align: top;\n",
       "    }\n",
       "\n",
       "    .dataframe thead th {\n",
       "        text-align: right;\n",
       "    }\n",
       "</style>\n",
       "<table border=\"1\" class=\"dataframe\">\n",
       "  <thead>\n",
       "    <tr style=\"text-align: right;\">\n",
       "      <th></th>\n",
       "      <th>title</th>\n",
       "      <th>content</th>\n",
       "      <th>date</th>\n",
       "      <th>time</th>\n",
       "      <th>link</th>\n",
       "    </tr>\n",
       "  </thead>\n",
       "  <tbody>\n",
       "    <tr>\n",
       "      <th>count</th>\n",
       "      <td>7592</td>\n",
       "      <td>7592</td>\n",
       "      <td>7592</td>\n",
       "      <td>7592</td>\n",
       "      <td>7592</td>\n",
       "    </tr>\n",
       "    <tr>\n",
       "      <th>unique</th>\n",
       "      <td>7577</td>\n",
       "      <td>7515</td>\n",
       "      <td>75</td>\n",
       "      <td>1129</td>\n",
       "      <td>7576</td>\n",
       "    </tr>\n",
       "    <tr>\n",
       "      <th>top</th>\n",
       "      <td>Pasien Positif Corona di Kepri Jadi 4, Pasien ...</td>\n",
       "      <td></td>\n",
       "      <td>2020-03-16</td>\n",
       "      <td>06:00 WIB</td>\n",
       "      <td>http://regional.kompas.com/read/2020/03/21/054...</td>\n",
       "    </tr>\n",
       "    <tr>\n",
       "      <th>freq</th>\n",
       "      <td>2</td>\n",
       "      <td>58</td>\n",
       "      <td>315</td>\n",
       "      <td>35</td>\n",
       "      <td>2</td>\n",
       "    </tr>\n",
       "  </tbody>\n",
       "</table>\n",
       "</div>"
      ],
      "text/plain": [
       "                                                    title content        date  \\\n",
       "count                                                7592    7592        7592   \n",
       "unique                                               7577    7515          75   \n",
       "top     Pasien Positif Corona di Kepri Jadi 4, Pasien ...          2020-03-16   \n",
       "freq                                                    2      58         315   \n",
       "\n",
       "              time                                               link  \n",
       "count         7592                                               7592  \n",
       "unique        1129                                               7576  \n",
       "top      06:00 WIB  http://regional.kompas.com/read/2020/03/21/054...  \n",
       "freq            35                                                  2  "
      ]
     },
     "execution_count": 13,
     "metadata": {},
     "output_type": "execute_result"
    }
   ],
   "source": [
    "kompasnlp.describe()"
   ]
  },
  {
   "cell_type": "code",
   "execution_count": 15,
   "metadata": {},
   "outputs": [
    {
     "data": {
      "text/plain": [
       "15"
      ]
     },
     "execution_count": 15,
     "metadata": {},
     "output_type": "execute_result"
    }
   ],
   "source": [
    "kompasnlp.duplicated().sum()"
   ]
  },
  {
   "cell_type": "code",
   "execution_count": 20,
   "metadata": {},
   "outputs": [],
   "source": [
    "kompasnlp.drop_duplicates(inplace=True)"
   ]
  },
  {
   "cell_type": "code",
   "execution_count": 21,
   "metadata": {},
   "outputs": [
    {
     "data": {
      "text/plain": [
       "0"
      ]
     },
     "execution_count": 21,
     "metadata": {},
     "output_type": "execute_result"
    }
   ],
   "source": [
    "kompasnlp.duplicated().sum()"
   ]
  },
  {
   "cell_type": "code",
   "execution_count": 22,
   "metadata": {},
   "outputs": [
    {
     "name": "stdout",
     "output_type": "stream",
     "text": [
      "<class 'pandas.core.frame.DataFrame'>\n",
      "Int64Index: 7577 entries, 0 to 7591\n",
      "Data columns (total 5 columns):\n",
      " #   Column   Non-Null Count  Dtype \n",
      "---  ------   --------------  ----- \n",
      " 0   title    7577 non-null   object\n",
      " 1   content  7577 non-null   object\n",
      " 2   date     7577 non-null   object\n",
      " 3   time     7577 non-null   object\n",
      " 4   link     7577 non-null   object\n",
      "dtypes: object(5)\n",
      "memory usage: 355.2+ KB\n"
     ]
    }
   ],
   "source": [
    "kompasnlp.info()"
   ]
  },
  {
   "cell_type": "code",
   "execution_count": null,
   "metadata": {},
   "outputs": [],
   "source": []
  }
 ],
 "metadata": {
  "kernelspec": {
   "display_name": "Python 3",
   "language": "python",
   "name": "python3"
  },
  "language_info": {
   "codemirror_mode": {
    "name": "ipython",
    "version": 3
   },
   "file_extension": ".py",
   "mimetype": "text/x-python",
   "name": "python",
   "nbconvert_exporter": "python",
   "pygments_lexer": "ipython3",
   "version": "3.7.6"
  }
 },
 "nbformat": 4,
 "nbformat_minor": 4
}
